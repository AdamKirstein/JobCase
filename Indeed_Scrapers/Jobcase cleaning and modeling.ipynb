{
 "cells": [
  {
   "cell_type": "markdown",
   "metadata": {},
   "source": [
    "# Data Cleanting "
   ]
  },
  {
   "cell_type": "code",
   "execution_count": 308,
   "metadata": {},
   "outputs": [],
   "source": [
    "import pandas as pd \n",
    "import numpy as np\n",
    "import re\n",
    "import matplotlib.pyplot as plt\n",
    "import seaborn as sns\n",
    "import scipy.stats as stats\n",
    "from sklearn import metrics\n",
    "from sklearn.tree import DecisionTreeClassifier, DecisionTreeRegressor\n",
    "from sklearn.ensemble import RandomForestClassifier, ExtraTreesClassifier, BaggingClassifier\n",
    "from sklearn.model_selection import train_test_split\n",
    "from sklearn.metrics import confusion_matrix \n",
    "from sklearn.metrics import accuracy_score \n",
    "from sklearn.metrics import classification_report \n",
    "from sklearn.model_selection import cross_val_score, cross_val_predict\n",
    "from sklearn import metrics\n",
    "from sklearn.model_selection import StratifiedKFold\n",
    "from sklearn.tree import DecisionTreeClassifier, DecisionTreeRegressor\n",
    "from sklearn.ensemble import RandomForestClassifier, ExtraTreesClassifier, BaggingClassifier\n",
    "from sklearn.model_selection import train_test_split\n",
    "from sklearn.metrics import roc_auc_score\n",
    "from sklearn.metrics import roc_curve"
   ]
  },
  {
   "cell_type": "code",
   "execution_count": 309,
   "metadata": {},
   "outputs": [],
   "source": [
    "df = pd.read_csv('FINAL_DF_YAWSSSS.csv')"
   ]
  },
  {
   "cell_type": "code",
   "execution_count": 310,
   "metadata": {},
   "outputs": [],
   "source": [
    "#getting ridof non-needed column\n",
    "df = df.drop('Unnamed: 0', axis=1)"
   ]
  },
  {
   "cell_type": "code",
   "execution_count": 311,
   "metadata": {},
   "outputs": [],
   "source": [
    "#cleaning off the \\nn in the calary column\n",
    "df = df.replace(r'\\n',' ', regex=True) "
   ]
  },
  {
   "cell_type": "code",
   "execution_count": 312,
   "metadata": {},
   "outputs": [],
   "source": [
    "#getting rid of all of the annoying \n",
    "df[str(\"salary\")] = df[str(\"salary\")].replace({'\\$':''}, regex = True)\n",
    "df[str(\"salary\")] = df[str(\"salary\")].replace({'a month':''}, regex = True)\n",
    "df[str(\"salary\")] = df[str(\"salary\")].replace({'an hour':''}, regex = True)\n",
    "df[str(\"salary\")] = df[str(\"salary\")].replace({'a year':''}, regex = True)\n",
    "df[str(\"salary\")] = df[str(\"salary\")].replace({'an hour (Indeed est.)':''}, regex = True)\n",
    "df[str(\"salary\")] = df[str(\"salary\")].replace({'(Indeed est.)':''}, regex = True)\n",
    "df['salary'] = df['salary'].str.replace(r\"\\(.*\\)\",\"\")"
   ]
  },
  {
   "cell_type": "code",
   "execution_count": 313,
   "metadata": {},
   "outputs": [],
   "source": [
    "#making new df to hold values from salary being split \n",
    "splits = df[\"salary\"].str.split(\"-\", n = 1, expand = True) \n",
    "# putting them back into main frame in new columns low and high  \n",
    "df[\"salary_low\"]= splits[0] \n",
    "df[\"salary_high\"]= splits[1] \n",
    "# Dropping old salary column\n",
    "df.drop(columns =[\"salary\"], inplace = True) "
   ]
  },
  {
   "cell_type": "code",
   "execution_count": 314,
   "metadata": {},
   "outputs": [],
   "source": [
    "df[\"salary_low\"]= df.salary_low.replace({',':''}, regex = True)\n",
    "df[\"salary_high\"]= df.salary_high.replace({',':''}, regex = True)"
   ]
  },
  {
   "cell_type": "code",
   "execution_count": 315,
   "metadata": {},
   "outputs": [],
   "source": [
    "#focusing on full time for analysis\n",
    "dfft = df[df.job_type =='fulltime']"
   ]
  },
  {
   "cell_type": "code",
   "execution_count": 316,
   "metadata": {},
   "outputs": [],
   "source": [
    "#filtering out only values that exist\n",
    "dfft = dfft[dfft.salary_low != 'None'].drop_duplicates().dropna()\n",
    "dfft = dfft[dfft.salary_high != 'None'].drop_duplicates().dropna()"
   ]
  },
  {
   "cell_type": "code",
   "execution_count": 317,
   "metadata": {},
   "outputs": [],
   "source": [
    "dfft.reset_index(drop=True, inplace=True)"
   ]
  },
  {
   "cell_type": "code",
   "execution_count": 318,
   "metadata": {},
   "outputs": [],
   "source": [
    "#extracting state and city from location \n",
    "dfft = dfft.join(dfft['Location'].str.split(',', 1, expand=True).rename(columns={0:'City', 1:'State'}))"
   ]
  },
  {
   "cell_type": "code",
   "execution_count": 319,
   "metadata": {},
   "outputs": [],
   "source": [
    "#extracting just state info \n",
    "def strip_state(x):\n",
    "    if x != None:\n",
    "        return x[0:3]\n",
    "    else:\n",
    "        None\n",
    "dfft['State Initials'] = dfft['State'].apply(strip_state)\n",
    "#dfft.head()"
   ]
  },
  {
   "cell_type": "code",
   "execution_count": 320,
   "metadata": {},
   "outputs": [],
   "source": [
    "#converting to numerica values (salary vals)\n",
    "dfft['salary_high'] = dfft['salary_high'].apply(pd.to_numeric)\n",
    "dfft['salary_low'] = dfft['salary_low'].apply(pd.to_numeric)"
   ]
  },
  {
   "cell_type": "code",
   "execution_count": 321,
   "metadata": {},
   "outputs": [],
   "source": [
    "#dfft.to_csv('dffulltimecleaned.csv', encoding='utf-8')"
   ]
  },
  {
   "cell_type": "markdown",
   "metadata": {},
   "source": [
    "# Analysis"
   ]
  },
  {
   "cell_type": "markdown",
   "metadata": {},
   "source": [
    "predicting if values are higher or lower than the median salary for full time jobs. The intended result of this analysis would be to be able to determine future positions that are likely to pay well. "
   ]
  },
  {
   "cell_type": "code",
   "execution_count": 322,
   "metadata": {},
   "outputs": [],
   "source": [
    "#creating a column to hold the average pay between the high and low values. \n",
    "dfft['Average'] = dfft[['salary_low', 'salary_high']].mean(axis=1)"
   ]
  },
  {
   "cell_type": "code",
   "execution_count": 323,
   "metadata": {},
   "outputs": [],
   "source": [
    "#nos taking the median value from the average calculated from the high and lows\n",
    "median = dfft['Average'].median()"
   ]
  },
  {
   "cell_type": "code",
   "execution_count": 324,
   "metadata": {
    "scrolled": true
   },
   "outputs": [
    {
     "data": {
      "text/plain": [
       "16.5"
      ]
     },
     "execution_count": 324,
     "metadata": {},
     "output_type": "execute_result"
    }
   ],
   "source": [
    "#the median salary for ft roles in this dataset is 16.5\n",
    "median"
   ]
  },
  {
   "cell_type": "code",
   "execution_count": 325,
   "metadata": {},
   "outputs": [
    {
     "name": "stderr",
     "output_type": "stream",
     "text": [
      "/Users/adamkirstein/anaconda3/lib/python3.7/site-packages/ipykernel_launcher.py:3: DeprecationWarning: \n",
      ".ix is deprecated. Please use\n",
      ".loc for label based indexing or\n",
      ".iloc for positional indexing\n",
      "\n",
      "See the documentation here:\n",
      "http://pandas.pydata.org/pandas-docs/stable/indexing.html#ix-indexer-is-deprecated\n",
      "  This is separate from the ipykernel package so we can avoid doing imports until\n",
      "/Users/adamkirstein/anaconda3/lib/python3.7/site-packages/ipykernel_launcher.py:4: DeprecationWarning: \n",
      ".ix is deprecated. Please use\n",
      ".loc for label based indexing or\n",
      ".iloc for positional indexing\n",
      "\n",
      "See the documentation here:\n",
      "http://pandas.pydata.org/pandas-docs/stable/indexing.html#ix-indexer-is-deprecated\n",
      "  after removing the cwd from sys.path.\n"
     ]
    }
   ],
   "source": [
    "#well paying jobs, the target jobs, will be those that are above the median salary value. \n",
    "dfft[\"above_med_sal\"] = np.nan\n",
    "dfft.ix[dfft[\"Average\"] > median, \"above_med_sal\"] = 1 # assigning 1 to values higher \n",
    "dfft.ix[dfft[\"Average\"] <= median, \"above_med_sal\"] = 0 # 0 to values less"
   ]
  },
  {
   "cell_type": "code",
   "execution_count": 326,
   "metadata": {},
   "outputs": [],
   "source": [
    "#switching to int from float\n",
    "dfft.above_med_sal = dfft.above_med_sal.astype(int)"
   ]
  },
  {
   "cell_type": "code",
   "execution_count": 327,
   "metadata": {},
   "outputs": [],
   "source": [
    "dfft.dropna(inplace=True)"
   ]
  },
  {
   "cell_type": "code",
   "execution_count": 328,
   "metadata": {},
   "outputs": [],
   "source": [
    "#val_counts = dfft.groupby('job_title')['job_title'].count().sort_values()"
   ]
  },
  {
   "cell_type": "code",
   "execution_count": 329,
   "metadata": {},
   "outputs": [],
   "source": [
    "#val_counts[-5:].plot(kind='barh')"
   ]
  },
  {
   "cell_type": "code",
   "execution_count": 330,
   "metadata": {},
   "outputs": [],
   "source": [
    "#salary counts \n",
    "#dfft.Average.value_counts().plot(kind='bar')"
   ]
  },
  {
   "cell_type": "code",
   "execution_count": 331,
   "metadata": {},
   "outputs": [
    {
     "data": {
      "text/plain": [
       "0    6850\n",
       "1    2504\n",
       "Name: above_med_sal, dtype: int64"
      ]
     },
     "execution_count": 331,
     "metadata": {},
     "output_type": "execute_result"
    }
   ],
   "source": [
    "#baseline shows a 76% rate for non-above median. higher than 50% chance of predicting lower than median. \n",
    "dfft['above_med_sal'].value_counts()"
   ]
  },
  {
   "cell_type": "markdown",
   "metadata": {},
   "source": [
    "# Random Forest "
   ]
  },
  {
   "cell_type": "code",
   "execution_count": 332,
   "metadata": {},
   "outputs": [],
   "source": [
    "#estimating salary by state "
   ]
  },
  {
   "cell_type": "code",
   "execution_count": 339,
   "metadata": {},
   "outputs": [
    {
     "name": "stdout",
     "output_type": "stream",
     "text": [
      "Cross-validated scores: [0.96870555 0.97012802 0.97150997 0.978602   0.9743224  0.96433666\n",
      " 0.9743224  0.97717546 0.9743224  0.96861626]\n",
      "Average score: 0.9722041116815501\n",
      "Standard deviation of score: 0.0041341265710795475\n",
      "0.9722024233784747\n"
     ]
    }
   ],
   "source": [
    "#training with no test/train splits\n",
    "model = RandomForestClassifier(n_estimators=500, oob_score=True)\n",
    "#creating dummy vars for states\n",
    "df_state_dummy = pd.get_dummies(dfft['State Initials'])\n",
    "#assigning dummy to x and above median sal to y \n",
    "x = df_state_dummy\n",
    "y = dfft['above_med_sal']\n",
    "X_train1, X_test1, y_train1, y_tes1t = train_test_split(x, y, test_size=0.25, random_state=42)\n",
    "#training and cross validating random forest\n",
    "cv_model = cross_val_score(model, X_train1, y_train1, cv=10)\n",
    "print ('Cross-validated scores:', cv_model)\n",
    "print( 'Average score:', cv_model.mean())\n",
    "print ('Standard deviation of score:', cv_model.std())\n",
    "model_fitted = model.fit(X_train1, y_train1)\n",
    "print (model.oob_score_)"
   ]
  },
  {
   "cell_type": "code",
   "execution_count": 340,
   "metadata": {},
   "outputs": [],
   "source": [
    "ypred = model_fitted.predict(X_test1)"
   ]
  },
  {
   "cell_type": "code",
   "execution_count": 338,
   "metadata": {},
   "outputs": [
    {
     "data": {
      "image/png": "[encoded data removed]",
      "text/plain": [
       "<Figure size 432x288 with 1 Axes>"
      ]
     },
     "metadata": {
      "needs_background": "light"
     },
     "output_type": "display_data"
    }
   ],
   "source": [
    "#creating confusion matrix. I am finding that an untuned, unbalanced rf is predicting rather well. \n",
    "mat = confusion_matrix(y_tes1t, ypred)\n",
    "sns.heatmap(mat.T, square=True, annot=True, fmt='d', cbar=False)\n",
    "plt.xlabel('true label')\n",
    "plt.ylabel('predicted label');"
   ]
  },
  {
   "cell_type": "code",
   "execution_count": null,
   "metadata": {},
   "outputs": [],
   "source": [
    "#missclassifed 59 true (above med) vals. "
   ]
  },
  {
   "cell_type": "code",
   "execution_count": 333,
   "metadata": {},
   "outputs": [
    {
     "name": "stdout",
     "output_type": "stream",
     "text": [
      "              precision    recall  f1-score   support\n",
      "\n",
      "           0       1.00      0.97      0.98      1796\n",
      "           1       0.90      1.00      0.95       543\n",
      "\n",
      "   micro avg       0.97      0.97      0.97      2339\n",
      "   macro avg       0.95      0.98      0.97      2339\n",
      "weighted avg       0.98      0.97      0.98      2339\n",
      "\n"
     ]
    }
   ],
   "source": [
    "from sklearn import metrics\n",
    "print(metrics.classification_report(ypred, y_tes1t))"
   ]
  },
  {
   "cell_type": "code",
   "execution_count": 349,
   "metadata": {},
   "outputs": [
    {
     "data": {
      "image/png": "[encoded data removed]",
      "text/plain": [
       "<Figure size 432x288 with 1 Axes>"
      ]
     },
     "metadata": {
      "needs_background": "light"
     },
     "output_type": "display_data"
    }
   ],
   "source": [
    "rf_roc_auc = roc_auc_score(y_tes1t, model_fitted.predict(X_test1))\n",
    "rf_fpr, rf_tpr, rf_thresholds = roc_curve(y_tes1t, model_fitted.predict_proba(X_test1)[:,1])\n",
    "plt.figure()\n",
    "plt.plot(rf_fpr, rf_tpr, label='Random Forest (area = %0.2f)' % rf_roc_auc)\n",
    "plt.plot([0, 1], [0, 1],'r--')\n",
    "plt.ylim([0.0, 1.05])\n",
    "plt.xlabel('False Positive Rate')\n",
    "plt.ylabel('True Positive Rate')\n",
    "plt.title('Receiver operating characteristic')\n",
    "plt.legend(loc=\"lower right\")\n",
    "plt.savefig('ROC')\n",
    "\n",
    "plt.show()\n"
   ]
  },
  {
   "cell_type": "code",
   "execution_count": null,
   "metadata": {},
   "outputs": [],
   "source": []
  }
 ],
 "metadata": {
  "kernelspec": {
   "display_name": "Python 3",
   "language": "python",
   "name": "python3"
  },
  "language_info": {
   "codemirror_mode": {
    "name": "ipython",
    "version": 3
   },
   "file_extension": ".py",
   "mimetype": "text/x-python",
   "name": "python",
   "nbconvert_exporter": "python",
   "pygments_lexer": "ipython3",
   "version": "3.7.1"
  }
 },
 "nbformat": 4,
 "nbformat_minor": 2
}
